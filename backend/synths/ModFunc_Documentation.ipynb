{
 "cells": [
  {
   "cell_type": "code",
   "execution_count": 1,
   "metadata": {},
   "outputs": [],
   "source": [
    "from EnvelopeModulators import ModFunction\n",
    "\n",
    "import numpy as np\n",
    "\n",
    "import matplotlib.pyplot as plt"
   ]
  },
  {
   "cell_type": "code",
   "execution_count": null,
   "metadata": {},
   "outputs": [],
   "source": [
    "types = [\"linear\",\"exp\",\"log\",\"poly\",\"polyFlatTop\",\"sin\",\"cos\",]\n",
    "\n",
    "n_space = np.concatenate((np.linspace(0.1,1.0,5),np.linspace(1.0,20.0,10)))\n",
    "x = np.linspace(0,1,100)\n",
    "\n",
    "# use a specific color map\n",
    "plt.rcParams['axes.prop_cycle'] = plt.cycler(color=plt.cm.viridis(np.linspace(0,1,len(n_space))))\n",
    "\n",
    "# create an individual plot for each type\n",
    "fig, axs = plt.subplots(len(types), 1,figsize=(5, 5*len(types)))\n",
    "for i, t in enumerate(types):\n",
    "\n",
    "    axs[i].set_title(t)\n",
    "    for n in n_space:\n",
    "        mod = ModFunction(t,n)\n",
    "        y = mod(x)\n",
    "        axs[i].plot(x,y,label=f\"n = {n:.1f}\")\n",
    "    axs[i].legend(bbox_to_anchor=(1.05, 1), loc='upper left', borderaxespad=0.)\n",
    "\n",
    "plt.show()"
   ]
  },
  {
   "cell_type": "code",
   "execution_count": null,
   "metadata": {},
   "outputs": [],
   "source": []
  }
 ],
 "metadata": {
  "kernelspec": {
   "display_name": "Python 3",
   "language": "python",
   "name": "python3"
  },
  "language_info": {
   "codemirror_mode": {
    "name": "ipython",
    "version": 3
   },
   "file_extension": ".py",
   "mimetype": "text/x-python",
   "name": "python",
   "nbconvert_exporter": "python",
   "pygments_lexer": "ipython3",
   "version": "3.10.12"
  }
 },
 "nbformat": 4,
 "nbformat_minor": 2
}
