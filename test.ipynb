{
 "cells": [
  {
   "cell_type": "code",
   "execution_count": 1,
   "metadata": {},
   "outputs": [
    {
     "name": "stdout",
     "output_type": "stream",
     "text": [
      "/home/rafdal/Documentos/Github/assd-tp-2/music/smooth-ac-guitar-loop-93bpm-137706.mp3 is not a WAV file.\n"
     ]
    }
   ],
   "source": [
    "import wave\n",
    "\n",
    "def is_wav_file(filename):\n",
    "    # Check based on file extension (not reliable)\n",
    "    if not filename.lower().endswith('.wav') and not filename.lower().endswith('.mp3'):\n",
    "        print(\"File is not labeled as .wav or .mp3\")\n",
    "        return False\n",
    "\n",
    "    # Attempt to open as WAV to check the header\n",
    "    try:\n",
    "        with wave.open(filename, 'rb') as wav_file:\n",
    "            # If this succeeds without errors, it's a valid WAV file\n",
    "            return True\n",
    "    except wave.Error:\n",
    "        # If opening the file as WAV failed, it's not a valid WAV file\n",
    "        return False\n",
    "\n",
    "# Example usage\n",
    "filename = \"/home/rafdal/Documentos/Github/assd-tp-2/music/smooth-ac-guitar-loop-93bpm-137706.mp3\"\n",
    "if is_wav_file(filename):\n",
    "    print(f\"{filename} is a WAV file.\")\n",
    "else:\n",
    "    print(f\"{filename} is not a WAV file.\")"
   ]
  }
 ],
 "metadata": {
  "kernelspec": {
   "display_name": "Python 3",
   "language": "python",
   "name": "python3"
  },
  "language_info": {
   "codemirror_mode": {
    "name": "ipython",
    "version": 3
   },
   "file_extension": ".py",
   "mimetype": "text/x-python",
   "name": "python",
   "nbconvert_exporter": "python",
   "pygments_lexer": "ipython3",
   "version": "3.10.12"
  }
 },
 "nbformat": 4,
 "nbformat_minor": 2
}
